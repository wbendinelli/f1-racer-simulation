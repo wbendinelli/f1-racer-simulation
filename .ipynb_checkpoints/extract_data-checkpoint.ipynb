{
 "cells": [
  {
   "cell_type": "markdown",
   "id": "ff110c08-2f0b-420e-b58f-d8ae40292298",
   "metadata": {
    "tags": []
   },
   "source": [
    "# F1 database\n",
    "\n",
    "This repository hosts a SQLite database containing Formula 1 lap and race information for the seasons from 2014 to 2019 (i.e. the Formula 1 hybrid era with V6 engines). The database contains the following tables: drivers, fcyphases, laps, qualifyings, races, retirements and starterfields.\n",
    "\n",
    "## Objective\n",
    "This notebook aims to create a function to open a database connection and save all tables in separate datasets for study in python"
   ]
  },
  {
   "cell_type": "code",
   "execution_count": 1,
   "id": "229bf7d4-aa4c-41f6-aeb8-9084458aaac6",
   "metadata": {},
   "outputs": [
    {
     "data": {
      "application/javascript": [
       "\n",
       "            setTimeout(function() {\n",
       "                var nbb_cell_id = 1;\n",
       "                var nbb_unformatted_code = \"#pip install nb_black\\n%load_ext nb_black\";\n",
       "                var nbb_formatted_code = \"# pip install nb_black\\n%load_ext nb_black\";\n",
       "                var nbb_cells = Jupyter.notebook.get_cells();\n",
       "                for (var i = 0; i < nbb_cells.length; ++i) {\n",
       "                    if (nbb_cells[i].input_prompt_number == nbb_cell_id) {\n",
       "                        if (nbb_cells[i].get_text() == nbb_unformatted_code) {\n",
       "                             nbb_cells[i].set_text(nbb_formatted_code);\n",
       "                        }\n",
       "                        break;\n",
       "                    }\n",
       "                }\n",
       "            }, 500);\n",
       "            "
      ],
      "text/plain": [
       "<IPython.core.display.Javascript object>"
      ]
     },
     "metadata": {},
     "output_type": "display_data"
    }
   ],
   "source": [
    "#pip install nb_black\n",
    "%load_ext nb_black"
   ]
  },
  {
   "cell_type": "code",
   "execution_count": 2,
   "id": "94509a3e-8719-420d-818a-10b1ae3075f7",
   "metadata": {},
   "outputs": [
    {
     "data": {
      "application/javascript": [
       "\n",
       "            setTimeout(function() {\n",
       "                var nbb_cell_id = 2;\n",
       "                var nbb_unformatted_code = \"def transform_db_to_df(db_path):\\n    import sqlite3\\n    import pandas as pd\\n    from pandas import read_sql_query, read_sql_table\\n    \\n    with sqlite3.connect(db_path) as dbcon:\\n        table_list = list(read_sql_query(\\\"SELECT name FROM sqlite_master WHERE type='table';\\\", dbcon)['name'])\\n      \\n    for element in table_list:\\n        globals()[element] = pd.read_sql_query(f\\\"SELECT * FROM  {element}\\\", dbcon)\\n        print(f\\\"O dataframe {element} foi criado com sucesso!\\\")\";\n",
       "                var nbb_formatted_code = \"def transform_db_to_df(db_path):\\n    import sqlite3\\n    import pandas as pd\\n    from pandas import read_sql_query, read_sql_table\\n\\n    with sqlite3.connect(db_path) as dbcon:\\n        table_list = list(\\n            read_sql_query(\\\"SELECT name FROM sqlite_master WHERE type='table';\\\", dbcon)[\\n                \\\"name\\\"\\n            ]\\n        )\\n\\n    for element in table_list:\\n        globals()[element] = pd.read_sql_query(f\\\"SELECT * FROM  {element}\\\", dbcon)\\n        print(f\\\"O dataframe {element} foi criado com sucesso!\\\")\";\n",
       "                var nbb_cells = Jupyter.notebook.get_cells();\n",
       "                for (var i = 0; i < nbb_cells.length; ++i) {\n",
       "                    if (nbb_cells[i].input_prompt_number == nbb_cell_id) {\n",
       "                        if (nbb_cells[i].get_text() == nbb_unformatted_code) {\n",
       "                             nbb_cells[i].set_text(nbb_formatted_code);\n",
       "                        }\n",
       "                        break;\n",
       "                    }\n",
       "                }\n",
       "            }, 500);\n",
       "            "
      ],
      "text/plain": [
       "<IPython.core.display.Javascript object>"
      ]
     },
     "metadata": {},
     "output_type": "display_data"
    }
   ],
   "source": [
    "def transform_db_to_df(db_path):\n",
    "    import sqlite3\n",
    "    import pandas as pd\n",
    "    from pandas import read_sql_query, read_sql_table\n",
    "    \n",
    "    with sqlite3.connect(db_path) as dbcon:\n",
    "        table_list = list(read_sql_query(\"SELECT name FROM sqlite_master WHERE type='table';\", dbcon)['name'])\n",
    "      \n",
    "    for element in table_list:\n",
    "        globals()[element] = pd.read_sql_query(f\"SELECT * FROM  {element}\", dbcon)\n",
    "        print(f\"O dataframe {element} foi criado com sucesso!\")"
   ]
  },
  {
   "cell_type": "code",
   "execution_count": 3,
   "id": "0f9b5977-8dce-40ba-a7e9-8e9670c2bd96",
   "metadata": {},
   "outputs": [
    {
     "name": "stdout",
     "output_type": "stream",
     "text": [
      "O dataframe drivers foi criado com sucesso!\n",
      "O dataframe starterfields foi criado com sucesso!\n",
      "O dataframe races foi criado com sucesso!\n",
      "O dataframe qualifyings foi criado com sucesso!\n",
      "O dataframe laps foi criado com sucesso!\n",
      "O dataframe retirements foi criado com sucesso!\n",
      "O dataframe fcyphases foi criado com sucesso!\n"
     ]
    },
    {
     "data": {
      "application/javascript": [
       "\n",
       "            setTimeout(function() {\n",
       "                var nbb_cell_id = 3;\n",
       "                var nbb_unformatted_code = \"path = \\\"/Users/william.bendinelli/Github-Repositories/f1-race-simulation/databases/F1_timingdata_2014_2019.sqlite\\\"\\ntransform_db_to_df(path)\";\n",
       "                var nbb_formatted_code = \"path = \\\"/Users/william.bendinelli/Github-Repositories/f1-race-simulation/databases/F1_timingdata_2014_2019.sqlite\\\"\\ntransform_db_to_df(path)\";\n",
       "                var nbb_cells = Jupyter.notebook.get_cells();\n",
       "                for (var i = 0; i < nbb_cells.length; ++i) {\n",
       "                    if (nbb_cells[i].input_prompt_number == nbb_cell_id) {\n",
       "                        if (nbb_cells[i].get_text() == nbb_unformatted_code) {\n",
       "                             nbb_cells[i].set_text(nbb_formatted_code);\n",
       "                        }\n",
       "                        break;\n",
       "                    }\n",
       "                }\n",
       "            }, 500);\n",
       "            "
      ],
      "text/plain": [
       "<IPython.core.display.Javascript object>"
      ]
     },
     "metadata": {},
     "output_type": "display_data"
    }
   ],
   "source": [
    "path = \"/Users/william.bendinelli/Github-Repositories/f1-race-simulation/databases/F1_timingdata_2014_2019.sqlite\"\n",
    "transform_db_to_df(path)"
   ]
  },
  {
   "cell_type": "code",
   "execution_count": 8,
   "id": "07128642-168d-4c0d-b0d6-39fb518f0472",
   "metadata": {},
   "outputs": [
    {
     "data": {
      "text/html": [
       "<div>\n",
       "<style scoped>\n",
       "    .dataframe tbody tr th:only-of-type {\n",
       "        vertical-align: middle;\n",
       "    }\n",
       "\n",
       "    .dataframe tbody tr th {\n",
       "        vertical-align: top;\n",
       "    }\n",
       "\n",
       "    .dataframe thead th {\n",
       "        text-align: right;\n",
       "    }\n",
       "</style>\n",
       "<table border=\"1\" class=\"dataframe\">\n",
       "  <thead>\n",
       "    <tr style=\"text-align: right;\">\n",
       "      <th></th>\n",
       "      <th>season</th>\n",
       "      <th>driver_id</th>\n",
       "      <th>accidents</th>\n",
       "      <th>failures</th>\n",
       "    </tr>\n",
       "  </thead>\n",
       "  <tbody>\n",
       "    <tr>\n",
       "      <th>0</th>\n",
       "      <td>2014</td>\n",
       "      <td>43</td>\n",
       "      <td>NaN</td>\n",
       "      <td>NaN</td>\n",
       "    </tr>\n",
       "    <tr>\n",
       "      <th>1</th>\n",
       "      <td>2015</td>\n",
       "      <td>43</td>\n",
       "      <td>NaN</td>\n",
       "      <td>NaN</td>\n",
       "    </tr>\n",
       "    <tr>\n",
       "      <th>2</th>\n",
       "      <td>2016</td>\n",
       "      <td>43</td>\n",
       "      <td>NaN</td>\n",
       "      <td>NaN</td>\n",
       "    </tr>\n",
       "    <tr>\n",
       "      <th>3</th>\n",
       "      <td>2017</td>\n",
       "      <td>43</td>\n",
       "      <td>NaN</td>\n",
       "      <td>NaN</td>\n",
       "    </tr>\n",
       "    <tr>\n",
       "      <th>4</th>\n",
       "      <td>2018</td>\n",
       "      <td>43</td>\n",
       "      <td>NaN</td>\n",
       "      <td>NaN</td>\n",
       "    </tr>\n",
       "    <tr>\n",
       "      <th>...</th>\n",
       "      <td>...</td>\n",
       "      <td>...</td>\n",
       "      <td>...</td>\n",
       "      <td>...</td>\n",
       "    </tr>\n",
       "    <tr>\n",
       "      <th>265</th>\n",
       "      <td>2015</td>\n",
       "      <td>31</td>\n",
       "      <td>NaN</td>\n",
       "      <td>NaN</td>\n",
       "    </tr>\n",
       "    <tr>\n",
       "      <th>266</th>\n",
       "      <td>2016</td>\n",
       "      <td>31</td>\n",
       "      <td>3.0</td>\n",
       "      <td>2.0</td>\n",
       "    </tr>\n",
       "    <tr>\n",
       "      <th>267</th>\n",
       "      <td>2017</td>\n",
       "      <td>31</td>\n",
       "      <td>2.0</td>\n",
       "      <td>1.0</td>\n",
       "    </tr>\n",
       "    <tr>\n",
       "      <th>268</th>\n",
       "      <td>2018</td>\n",
       "      <td>31</td>\n",
       "      <td>NaN</td>\n",
       "      <td>NaN</td>\n",
       "    </tr>\n",
       "    <tr>\n",
       "      <th>269</th>\n",
       "      <td>2019</td>\n",
       "      <td>31</td>\n",
       "      <td>NaN</td>\n",
       "      <td>NaN</td>\n",
       "    </tr>\n",
       "  </tbody>\n",
       "</table>\n",
       "<p>270 rows × 4 columns</p>\n",
       "</div>"
      ],
      "text/plain": [
       "     season  driver_id  accidents  failures\n",
       "0      2014         43        NaN       NaN\n",
       "1      2015         43        NaN       NaN\n",
       "2      2016         43        NaN       NaN\n",
       "3      2017         43        NaN       NaN\n",
       "4      2018         43        NaN       NaN\n",
       "..      ...        ...        ...       ...\n",
       "265    2015         31        NaN       NaN\n",
       "266    2016         31        3.0       2.0\n",
       "267    2017         31        2.0       1.0\n",
       "268    2018         31        NaN       NaN\n",
       "269    2019         31        NaN       NaN\n",
       "\n",
       "[270 rows x 4 columns]"
      ]
     },
     "execution_count": 8,
     "metadata": {},
     "output_type": "execute_result"
    },
    {
     "data": {
      "application/javascript": [
       "\n",
       "            setTimeout(function() {\n",
       "                var nbb_cell_id = 8;\n",
       "                var nbb_unformatted_code = \"retirements\";\n",
       "                var nbb_formatted_code = \"retirements\";\n",
       "                var nbb_cells = Jupyter.notebook.get_cells();\n",
       "                for (var i = 0; i < nbb_cells.length; ++i) {\n",
       "                    if (nbb_cells[i].input_prompt_number == nbb_cell_id) {\n",
       "                        if (nbb_cells[i].get_text() == nbb_unformatted_code) {\n",
       "                             nbb_cells[i].set_text(nbb_formatted_code);\n",
       "                        }\n",
       "                        break;\n",
       "                    }\n",
       "                }\n",
       "            }, 500);\n",
       "            "
      ],
      "text/plain": [
       "<IPython.core.display.Javascript object>"
      ]
     },
     "metadata": {},
     "output_type": "display_data"
    }
   ],
   "source": [
    "retirements"
   ]
  }
 ],
 "metadata": {
  "kernelspec": {
   "display_name": "Python 3 (ipykernel)",
   "language": "python",
   "name": "python3"
  },
  "language_info": {
   "codemirror_mode": {
    "name": "ipython",
    "version": 3
   },
   "file_extension": ".py",
   "mimetype": "text/x-python",
   "name": "python",
   "nbconvert_exporter": "python",
   "pygments_lexer": "ipython3",
   "version": "3.9.7"
  }
 },
 "nbformat": 4,
 "nbformat_minor": 5
}
