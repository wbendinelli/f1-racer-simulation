{
 "cells": [
  {
   "cell_type": "markdown",
   "id": "ff110c08-2f0b-420e-b58f-d8ae40292298",
   "metadata": {
    "tags": []
   },
   "source": [
    "# F1 database\n",
    "\n",
    "This repository hosts a SQLite database containing Formula 1 lap and race information for the seasons from 2014 to 2019 (i.e. the Formula 1 hybrid era with V6 engines). The database contains the following tables: drivers, fcyphases, laps, qualifyings, races, retirements and starterfields.\n",
    "\n",
    "## Objective\n",
    "This notebook aims to create a function to open a database connection and save all tables in separate datasets for study in python"
   ]
  },
  {
   "cell_type": "code",
   "execution_count": 1,
   "id": "229bf7d4-aa4c-41f6-aeb8-9084458aaac6",
   "metadata": {},
   "outputs": [
    {
     "data": {
      "application/javascript": [
       "\n",
       "            setTimeout(function() {\n",
       "                var nbb_cell_id = 1;\n",
       "                var nbb_unformatted_code = \"#pip install nb_black\\n%load_ext nb_black\";\n",
       "                var nbb_formatted_code = \"# pip install nb_black\\n%load_ext nb_black\";\n",
       "                var nbb_cells = Jupyter.notebook.get_cells();\n",
       "                for (var i = 0; i < nbb_cells.length; ++i) {\n",
       "                    if (nbb_cells[i].input_prompt_number == nbb_cell_id) {\n",
       "                        if (nbb_cells[i].get_text() == nbb_unformatted_code) {\n",
       "                             nbb_cells[i].set_text(nbb_formatted_code);\n",
       "                        }\n",
       "                        break;\n",
       "                    }\n",
       "                }\n",
       "            }, 500);\n",
       "            "
      ],
      "text/plain": [
       "<IPython.core.display.Javascript object>"
      ]
     },
     "metadata": {},
     "output_type": "display_data"
    }
   ],
   "source": [
    "#pip install nb_black\n",
    "%load_ext nb_black"
   ]
  },
  {
   "cell_type": "code",
   "execution_count": 1,
   "id": "94509a3e-8719-420d-818a-10b1ae3075f7",
   "metadata": {},
   "outputs": [],
   "source": [
    "def transform_db_to_df(db_path):\n",
    "    import sqlite3\n",
    "    import pandas as pd\n",
    "    from pandas import read_sql_query, read_sql_table\n",
    "    \n",
    "    with sqlite3.connect(db_path) as dbcon:\n",
    "        table_list = list(read_sql_query(\"SELECT name FROM sqlite_master WHERE type='table';\", dbcon)['name'])\n",
    "      \n",
    "    for element in table_list:\n",
    "        globals()[element] = pd.read_sql_query(f\"SELECT * FROM  {element}\", dbcon)\n",
    "        print(f\"O dataframe {element} foi criado com sucesso!\")"
   ]
  },
  {
   "cell_type": "code",
   "execution_count": 2,
   "id": "0f9b5977-8dce-40ba-a7e9-8e9670c2bd96",
   "metadata": {},
   "outputs": [
    {
     "name": "stdout",
     "output_type": "stream",
     "text": [
      "O dataframe drivers foi criado com sucesso!\n",
      "O dataframe starterfields foi criado com sucesso!\n",
      "O dataframe races foi criado com sucesso!\n",
      "O dataframe qualifyings foi criado com sucesso!\n",
      "O dataframe laps foi criado com sucesso!\n",
      "O dataframe retirements foi criado com sucesso!\n",
      "O dataframe fcyphases foi criado com sucesso!\n"
     ]
    }
   ],
   "source": [
    "path = \"/Users/william.bendinelli/Documents/GitHub/f1-racer-simulation/database/BD_F1_historical.sqlite\"\n",
    "transform_db_to_df(path)"
   ]
  }
 ],
 "metadata": {
  "kernelspec": {
   "display_name": "Python 3 (ipykernel)",
   "language": "python",
   "name": "python3"
  },
  "language_info": {
   "codemirror_mode": {
    "name": "ipython",
    "version": 3
   },
   "file_extension": ".py",
   "mimetype": "text/x-python",
   "name": "python",
   "nbconvert_exporter": "python",
   "pygments_lexer": "ipython3",
   "version": "3.9.7"
  }
 },
 "nbformat": 4,
 "nbformat_minor": 5
}
